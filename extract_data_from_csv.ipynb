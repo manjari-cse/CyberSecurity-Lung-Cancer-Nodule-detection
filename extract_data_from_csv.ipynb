{
  "nbformat": 4,
  "nbformat_minor": 0,
  "metadata": {
    "colab": {
      "provenance": [],
      "authorship_tag": "ABX9TyMj9Wp4qpSeCsmlQRDWlTZB",
      "include_colab_link": true
    },
    "kernelspec": {
      "name": "python3",
      "display_name": "Python 3"
    }
  },
  "cells": [
    {
      "cell_type": "markdown",
      "metadata": {
        "id": "view-in-github",
        "colab_type": "text"
      },
      "source": [
        "<a href=\"https://colab.research.google.com/github/manjari-cse/Lung-Cancer-Nodule-detection/blob/main/extract_data_from_csv.ipynb\" target=\"_parent\"><img src=\"https://colab.research.google.com/assets/colab-badge.svg\" alt=\"Open In Colab\"/></a>"
      ]
    },
    {
      "cell_type": "code",
      "metadata": {
        "id": "j-J2afA9Z4fB",
        "colab": {
          "base_uri": "https://localhost:8080/",
          "height": 1000
        },
        "outputId": "177dc29c-a4aa-4d73-8813-0db7a0fa4422"
      },
      "source": [
        "import csv\n",
        "\n",
        "with open('/content/lung_cancer_examples.csv','r') as csv_file:\n",
        "  csv_reader = csv.reader(csv_file)\n",
        "\n",
        "  for line in csv_reader:\n",
        "    print(line)"
      ],
      "execution_count": null,
      "outputs": [
        {
          "output_type": "stream",
          "text": [
            "['Name', 'Surname', 'Age', 'Smokes', 'AreaQ', 'Alkhol', 'Result']\n",
            "['John', 'Wick', '35', '3', '5', '4', '1']\n",
            "['John', 'Constantine', '27', '20', '2', '5', '1']\n",
            "['Camela', 'Anderson', '30', '0', '5', '2', '0']\n",
            "['Alex', 'Telles', '28', '0', '8', '1', '0']\n",
            "['Diego', 'Maradona', '68', '4', '5', '6', '1']\n",
            "['Cristiano', 'Ronaldo', '34', '0', '10', '0', '0']\n",
            "['Mihail', 'Tal', '58', '15', '10', '0', '0']\n",
            "['Kathy', 'Bates', '22', '12', '5', '2', '0']\n",
            "['Nicole', 'Kidman', '45', '2', '6', '0', '0']\n",
            "['Ray', 'Milland', '52', '18', '4', '5', '1']\n",
            "['Fredric', 'March', '33', '4', '8', '0', '0']\n",
            "['Yul', 'Brynner', '18', '10', '6', '3', '0']\n",
            "['Joan', 'Crawford', '25', '2', '5', '1', '0']\n",
            "['Jane', 'Wyman', '28', '20', '2', '8', '1']\n",
            "['Anna', 'Magnani', '34', '25', '4', '8', '1']\n",
            "['Katharine ', 'Hepburn', '39', '18', '8', '1', '0']\n",
            "['Katharine ', 'Hepburn', '42', '22', '3', '5', '1']\n",
            "['Barbra', 'Streisand', '19', '12', '8', '0', '0']\n",
            "['Maggie ', 'Smith', '62', '5', '4', '3', '1']\n",
            "['Glenda ', 'Jackson', '73', '10', '7', '6', '1']\n",
            "['Jane ', 'Fonda', '55', '15', '1', '3', '1']\n",
            "['Maximilian ', 'Schell', '33', '8', '8', '1', '0']\n",
            "['Gregory ', 'Peck', '22', '20', '6', '2', '0']\n",
            "['Sidney ', 'Poitier', '44', '5', '8', '1', '0']\n",
            "['Rex ', 'Harrison', '77', '3', '2', '6', '1']\n",
            "['Lee ', 'Marvin', '21', '20', '5', '3', '0']\n",
            "['Paul ', 'Scofield', '37', '15', '6', '2', '0']\n",
            "['Rod ', 'Steiger', '34', '12', '8', '0', '0']\n",
            "['John ', 'Wayne', '55', '20', '1', '4', '1']\n",
            "['Gene ', 'Hackman', '40', '20', '2', '7', '1']\n",
            "['Marlon ', 'Brando', '36', '13', '5', '2', '0']\n",
            "['Jack ', 'Lemmon', '56', '20', '3', '3', '1']\n",
            "['Jack ', 'Nicholson', '47', '15', '1', '8', '1']\n",
            "['Peter ', 'Finch ', '62', '25', '3', '4', '1']\n",
            "['Richard ', 'Dreyfuss', '26', '10', '7', '2', '0']\n",
            "['Dustin ', 'Hoffman', '25', '20', '8', '2', '0']\n",
            "['Henry ', 'Henry ', '59', '20', '3', '4', '1']\n",
            "['Robert ', 'Duvall', '62', '15', '5', '5', '1']\n",
            "['Ellen ', 'Burstyn', '33', '25', '8', '2', '0']\n",
            "['Faye ', 'Dunaway', '37', '10', '5', '3', '0']\n",
            "['Diane ', 'Keaton', '50', '20', '2', '4', '1']\n",
            "['Jane ', 'Fonda', '47', '12', '8', '0', '0']\n",
            "['Sally ', 'Field', '69', '20', '5', '4', '1']\n",
            "['Sissy ', 'Spacek', '63', '20', '4', '5', '1']\n",
            "['Jessica ', 'Lange', '39', '15', '7', '2', '0']\n",
            "['Gwyneth ', 'Paltrow', '21', '20', '8', '3', '0']\n",
            "['Halle ', 'Berry', '31', '20', '9', '4', '0']\n",
            "['Nicole ', 'Kidman', '28', '10', '4', '1', '0']\n",
            "['Charlize ', 'Theron', '53', '20', '6', '3', '1']\n",
            "['Katharine ', 'Hepburn', '62', '20', '5', '6', '1']\n",
            "['Katharine ', 'Hepburn', '42', '12', '6', '2', '0']\n",
            "['Barbra ', 'Streisand', '44', '30', '1', '6', '1']\n",
            "['Maggie ', 'Smith', '26', '34', '1', '8', '1']\n",
            "['Glenda ', 'Jackson', '35', '20', '5', '1', '0']\n",
            "['Ernest ', 'Borgnine', '26', '13', '6', '1', '0']\n",
            "['Alec ', 'Guinness', '77', '20', '5', '4', '1']\n",
            "['Charlton ', 'Heston', '75', '15', '3', '5', '1']\n",
            "['Gregory ', 'Peck', '43', '30', '3', '8', '1']\n",
            "['Sidney ', 'Poitier', '51', '25', '9', '0', '0']\n"
          ],
          "name": "stdout"
        }
      ]
    }
  ]
}